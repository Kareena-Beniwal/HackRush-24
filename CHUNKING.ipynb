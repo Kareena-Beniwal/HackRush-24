{
 "cells": [
  {
   "cell_type": "code",
   "execution_count": 1,
   "metadata": {},
   "outputs": [],
   "source": [
    "import torch\n",
    "import os"
   ]
  },
  {
   "cell_type": "code",
   "execution_count": 2,
   "metadata": {},
   "outputs": [],
   "source": [
    "\n",
    "os.environ['TF_XLA_FLAGS'] = '--tf_xla_enable_xla_devices'\n",
    "os.environ[\"CUDA_DEVICE_ORDER\"]= \"PCI_BUS_ID\"\n",
    "os.environ[\"CUDA_VISIBLE_DEVICES\"]= '2'\n"
   ]
  },
  {
   "cell_type": "code",
   "execution_count": 3,
   "metadata": {},
   "outputs": [],
   "source": [
    "file_paths = ['/home/project/new/lost-in-amazon-rainforest/Train/train_data_person_000.xlsx',\n",
    "              '/home/project/new/lost-in-amazon-rainforest/Train/train_data_person_001.xlsx',\n",
    "              '/home/project/new/lost-in-amazon-rainforest/Train/train_data_person_002.xlsx',\n",
    "              '/home/project/new/lost-in-amazon-rainforest/Train/train_data_person_003.xlsx',\n",
    "              '/home/project/new/lost-in-amazon-rainforest/Train/train_data_person_004.xlsx',\n",
    "              '/home/project/new/lost-in-amazon-rainforest/Train/train_data_person_005.xlsx',\n",
    "              '/home/project/new/lost-in-amazon-rainforest/Train/train_data_person_006.xlsx',\n",
    "              '/home/project/new/lost-in-amazon-rainforest/Train/train_data_person_007.xlsx',\n",
    "              '/home/project/new/lost-in-amazon-rainforest/Train/train_data_person_008.xlsx',\n",
    "              '/home/project/new/lost-in-amazon-rainforest/Train/train_data_person_009.xlsx',\n",
    "\n",
    "            ]"
   ]
  },
  {
   "cell_type": "code",
   "execution_count": 4,
   "metadata": {},
   "outputs": [
    {
     "name": "stdout",
     "output_type": "stream",
     "text": [
      "(896,)\n",
      "(896,)\n",
      "(896,)\n",
      "(896,)\n",
      "(896,)\n",
      "(896,)\n",
      "(896,)\n",
      "(896,)\n",
      "(896,)\n",
      "(896,)\n",
      "Shape of blocks array: (36680, 32, 250)\n",
      "Shape of labels array: (36680,)\n"
     ]
    }
   ],
   "source": [
    "import numpy as np\n",
    "import pandas as pd\n",
    "\n",
    "# Initialization of the all_blocks and all_labels arrays as lists\n",
    "all_blocks = []\n",
    "all_labels = []\n",
    "num_rows = 32\n",
    "block_width = 250  # Width of each block\n",
    "stride = 50        # Step to move right for the next block\n",
    "for file_path in file_paths:\n",
    "    df = pd.read_excel(file_path)\n",
    "    # Split the dataframe\n",
    "    datadf = df.iloc[:, :6750]  # All rows, first 6750 columns\n",
    "    labeldf = df.iloc[:, -1]   # All rows, last column\n",
    "    print(labeldf.shape)\n",
    "    # Remove NaN values from labeldf\n",
    "    labeldf = labeldf.dropna()\n",
    "    labeldf = labeldf.reset_index(drop=True)\n",
    "    datadf = datadf.reset_index(drop=True)\n",
    "\n",
    "    for start_row in range(0, len(datadf), num_rows):\n",
    "        # Ensure there are enough rows left; if not, break the loop\n",
    "        if start_row + num_rows > len(datadf):\n",
    "            break\n",
    "        # Select the current 32 rows\n",
    "        current_rows = datadf.iloc[start_row:start_row + num_rows]\n",
    "\n",
    "        # Iterate across columns with the specified stride\n",
    "        for start_col in range(0, 6750, stride):\n",
    "            end_col = start_col + block_width\n",
    "            if end_col > 6750:\n",
    "                break  # Ensure we do not exceed column bounds\n",
    "            \n",
    "            # Extract the block of data\n",
    "            block = current_rows.iloc[:, start_col:end_col].values\n",
    "            all_blocks.append(block)\n",
    "            \n",
    "            # Append the corresponding label to all_labels\n",
    "            all_labels.append(labeldf.iloc[start_row // num_rows])\n",
    "\n",
    "# Convert lists to NumPy arrays\n",
    "all_blocks = np.array(all_blocks)\n",
    "all_labels = np.array(all_labels)\n",
    "print(\"Shape of blocks array:\", all_blocks.shape)\n",
    "print(\"Shape of labels array:\", all_labels.shape)\n",
    "np.savez_compressed('data50.npz', X=all_blocks, Y=all_labels)\n"
   ]
  },
  {
   "cell_type": "code",
   "execution_count": 5,
   "metadata": {},
   "outputs": [
    {
     "name": "stderr",
     "output_type": "stream",
     "text": [
      "100%|██████████| 8400/8400 [00:00<00:00, 20903.96it/s]\n"
     ]
    },
    {
     "name": "stdout",
     "output_type": "stream",
     "text": [
      "(8400, 32, 250) (8400,)\n"
     ]
    }
   ],
   "source": [
    "from natsort import natsorted\n",
    "from tqdm import tqdm\n",
    "from glob import glob\n",
    "import numpy as np\n",
    "import pandas as pd\n",
    "import pickle\n",
    "from sklearn.model_selection import train_test_split\n",
    "import tensorflow as tf\n",
    "from tensorflow.keras.models import Sequential\n",
    "from tensorflow.keras.layers import Conv2D, Flatten, Dense, MaxPooling2D\n",
    "\n",
    "all_blocks = []\n",
    "all_labels = []\n",
    "\n",
    "all_files_path = natsorted(glob('merged_data_pkl/*'))\n",
    "\n",
    "for path in tqdm(all_files_path):\n",
    "    with open(path, 'rb') as file:\n",
    "        data_dict = pickle.load(file)\n",
    "        all_blocks.append(data_dict['data'])\n",
    "        all_labels.append(data_dict['label'])\n",
    "\n",
    "X = np.array(all_blocks)\n",
    "Y = np.array(all_labels)\n",
    "\n",
    "print(X.shape, Y.shape)\n"
   ]
  },
  {
   "cell_type": "code",
   "execution_count": 6,
   "metadata": {},
   "outputs": [
    {
     "name": "stdout",
     "output_type": "stream",
     "text": [
      "[0 0 0 ... 8 8 8]\n"
     ]
    }
   ],
   "source": [
    "print(Y)"
   ]
  },
  {
   "cell_type": "code",
   "execution_count": 4,
   "metadata": {},
   "outputs": [],
   "source": [
    "import torch\n",
    "import torch.nn as nn\n",
    "import torch.optim as optim\n",
    "from torch.utils.data import DataLoader, TensorDataset\n",
    "from torchvision import transforms\n"
   ]
  }
 ],
 "metadata": {
  "kernelspec": {
   "display_name": "Python 3",
   "language": "python",
   "name": "python3"
  },
  "language_info": {
   "codemirror_mode": {
    "name": "ipython",
    "version": 3
   },
   "file_extension": ".py",
   "mimetype": "text/x-python",
   "name": "python",
   "nbconvert_exporter": "python",
   "pygments_lexer": "ipython3",
   "version": "3.9.18"
  }
 },
 "nbformat": 4,
 "nbformat_minor": 2
}
